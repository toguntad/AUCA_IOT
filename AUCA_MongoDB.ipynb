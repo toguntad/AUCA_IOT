{
 "cells": [
  {
   "cell_type": "code",
   "execution_count": null,
   "id": "c8f272a4",
   "metadata": {},
   "outputs": [],
   "source": [
    "## To check if MongoDB is installed and determine its version\n",
    "\n",
    "!mongod --version"
   ]
  },
  {
   "cell_type": "code",
   "execution_count": null,
   "id": "259ace47",
   "metadata": {},
   "outputs": [],
   "source": [
    "## Install PyMongo\n",
    "\n",
    "!pip install pymongo"
   ]
  },
  {
   "cell_type": "code",
   "execution_count": null,
   "id": "15e6701b",
   "metadata": {},
   "outputs": [],
   "source": [
    "## Connecting Python to MongoDB: Basic Connection\n",
    "\n",
    "from pymongo import MongoClient\n",
    "\n",
    "# Create a MongoClient to the running mongod instance\n",
    "client = MongoClient(\"mongodb://localhost:27017/\")\n",
    "\n",
    "# Attempt to fetch the server information. This operation forces a connection to MongoDB.\n",
    "try: \n",
    "    server_info = client.server_info()  # This command will actually attempt to connect to MongoDB\n",
    "    print(\"Connected to MongoDB version:\", server_info['version'])\n",
    "except Exception as e:\n",
    "    print(\"Failed to connect to MongoDB:\", e)"
   ]
  },
  {
   "cell_type": "code",
   "execution_count": null,
   "id": "73e63356",
   "metadata": {},
   "outputs": [],
   "source": []
  },
  {
   "cell_type": "markdown",
   "id": "4c8e8e74",
   "metadata": {},
   "source": [
    "Note for the cell below:\n",
    "\n",
    "In MongoDB, you don't need to explicitly create a database or a collection before using them. When you specify a database name and a collection name, MongoDB will automatically create the database and the collection if they do not already exist as soon as you insert some data into the collection."
   ]
  },
  {
   "cell_type": "code",
   "execution_count": null,
   "id": "fcf8775c",
   "metadata": {},
   "outputs": [],
   "source": [
    "## Access Database and Collection\n",
    "\n",
    "db = client[\"sampledb\"]\n",
    "collection = db[\"users\"]\n",
    "print(\"Accessed Database and Collections\")"
   ]
  },
  {
   "cell_type": "code",
   "execution_count": null,
   "id": "407304cb",
   "metadata": {},
   "outputs": [],
   "source": [
    "## Simple Insert\n",
    "\n",
    "user_data = {\"name\": \"John Doe\", \"email\": \"john@example.com\"}\n",
    "result = collection.insert_one(user_data)\n",
    "print(\"Inserted User ID:\", result.inserted_id)"
   ]
  },
  {
   "cell_type": "code",
   "execution_count": null,
   "id": "a8cc32ef",
   "metadata": {},
   "outputs": [],
   "source": [
    "## Insert with custom primary key\n",
    "\n",
    "user_data = {\n",
    "    \"_id\": \"custom_id_12345\",  // Your custom primary key\n",
    "    \"name\": \"Jane Doe\",\n",
    "    \"email\": \"jane@example.com\"\n",
    "}\n",
    "result = collection.insert_one(user_data)\n",
    "print(\"Inserted User ID:\", result.inserted_id)"
   ]
  },
  {
   "cell_type": "code",
   "execution_count": null,
   "id": "6e47d636",
   "metadata": {},
   "outputs": [],
   "source": [
    "## Inserting Multiple Documents\n",
    "\n",
    "users_data = [\n",
    "    {\"name\": \"Alice\", \"email\": \"alice@example.com\"},\n",
    "    {\"name\": \"Bob\", \"email\": \"bob@example.com\"}\n",
    "]\n",
    "results = collection.insert_many(users_data)\n",
    "print(\"Inserted IDs:\", results.inserted_ids)"
   ]
  },
  {
   "cell_type": "code",
   "execution_count": null,
   "id": "139fd767",
   "metadata": {},
   "outputs": [],
   "source": [
    "## Finding a Single Document\n",
    "\n",
    "query = {\"name\": \"Jane Doe\"}\n",
    "user = collection.find_one(query)\n",
    "print(\"Found User:\", user)"
   ]
  },
  {
   "cell_type": "code",
   "execution_count": null,
   "id": "0d280a0d",
   "metadata": {},
   "outputs": [],
   "source": [
    "## Finding Multiple Documents with Conditions\n",
    "\n",
    "query = {\"email\": {\"$regex\": \"@example.com$\"}}\n",
    "users = collection.find(query)\n",
    "for user in users:\n",
    "    print(user)"
   ]
  },
  {
   "cell_type": "code",
   "execution_count": null,
   "id": "b8a68eea",
   "metadata": {},
   "outputs": [],
   "source": [
    "## Updating a Single Document\n",
    "\n",
    "query = {\"name\": \"Jane Doe\"}\n",
    "new_values = {\"$set\": {\"email\": \"jane.doe@example.com\"}}\n",
    "collection.update_one(query, new_values)"
   ]
  },
  {
   "cell_type": "code",
   "execution_count": null,
   "id": "b05a7e14",
   "metadata": {},
   "outputs": [],
   "source": [
    "## Updating Multiple Documents\n",
    "## updates all documents in the collection where the email field matches the regular expression \"@example.com$\". \n",
    "## This regex checks for emails ending with \"@example.com\". The update operation sets the field subscriber to True\n",
    "## for all matching documents.\n",
    "\n",
    "query = {\"email\": {\"$regex\": \"@example.com$\"}}\n",
    "new_values = {\"$set\": {\"subscriber\": True}}\n",
    "collection.update_many(query, new_values)"
   ]
  },
  {
   "cell_type": "code",
   "execution_count": null,
   "id": "91ec3f05",
   "metadata": {},
   "outputs": [],
   "source": [
    "## Deleting a Single Document\n",
    "\n",
    "query = {\"name\": \"Bob\"}\n",
    "collection.delete_one(query)"
   ]
  },
  {
   "cell_type": "code",
   "execution_count": null,
   "id": "328b4ab5",
   "metadata": {},
   "outputs": [],
   "source": [
    "## Deleting Multiple Documents\n",
    "## deletes all documents in the collection where the subscriber field is True\n",
    "\n",
    "query = {\"subscriber\": True}\n",
    "result = collection.delete_many(query)\n",
    "print(\"Documents deleted:\", result.deleted_count)"
   ]
  },
  {
   "cell_type": "code",
   "execution_count": null,
   "id": "f168ce9b",
   "metadata": {},
   "outputs": [],
   "source": [
    "## Complete Update Example with print confirmation\n",
    "\n",
    "from pymongo import MongoClient\n",
    "\n",
    "# Setup the connection and select the database and collection\n",
    "client = MongoClient(\"mongodb://localhost:27017/\")\n",
    "db = client[\"sampledb\"]\n",
    "collection = db[\"users\"]\n",
    "\n",
    "# Define the query and update\n",
    "query = {\"email\": {\"$regex\": \"@example.com$\"}}\n",
    "new_values = {\"$set\": {\"subscriber\": True}}\n",
    "\n",
    "# Perform the update operation\n",
    "result = collection.update_many(query, new_values)\n",
    "\n",
    "# Print the results\n",
    "print(\"Matched documents:\", result.matched_count)\n",
    "print(\"Modified documents:\", result.modified_count)"
   ]
  },
  {
   "cell_type": "markdown",
   "id": "87be0960",
   "metadata": {},
   "source": [
    "Note for the cell below:\n",
    "\n",
    "{\"age\": {\"$gt\": 21}} searches for documents where the age field has a value greater than 21.\n",
    "{\"email\": {\"$regex\": \"@example.com$\"}} looks for documents where the email field matches the regular expression @example.com$. The $ at the end of the regex pattern ensures that the email address ends with \"@example.com\", making it a precise domain match for email fields.\n",
    "The $and operator is used here to combine these two conditions, ensuring that both conditions must be met for a document to be selected."
   ]
  },
  {
   "cell_type": "code",
   "execution_count": null,
   "id": "7ae4e3e4",
   "metadata": {},
   "outputs": [],
   "source": [
    "## Querying with Conditions\n",
    "\n",
    "query = {\"$and\": [{\"age\": {\"$gt\": 21}}, {\"email\": {\"$regex\": \"@example.com$\"}}]}\n",
    "results = collection.find(query)\n",
    "for result in results:\n",
    "    print(result)"
   ]
  },
  {
   "cell_type": "code",
   "execution_count": null,
   "id": "685fb2a8",
   "metadata": {},
   "outputs": [],
   "source": [
    "## Projection in Queries: \n",
    "## retrieves documents where the age is greater than 21. It specifies a projection to include only the name and \n",
    "## email fields in the results, excluding the MongoDB default _id field. \n",
    "\n",
    "query = {\"age\": {\"$gt\": 21}}\n",
    "projection = {\"name\": 1, \"email\": 1, \"_id\": 0}\n",
    "results = collection.find(query, projection)\n",
    "for result in results:\n",
    "    print(result)"
   ]
  },
  {
   "cell_type": "code",
   "execution_count": null,
   "id": "32b12676",
   "metadata": {},
   "outputs": [],
   "source": [
    "## Sorting Results\n",
    "## finds documents where the age is greater than 21 and sorts the results in ascending order by the name field\n",
    "\n",
    "from pymongo import ASCENDING, DESCENDING\n",
    "query = {\"age\": {\"$gt\": 21}}\n",
    "results = collection.find(query).sort(\"name\", ASCENDING)\n",
    "for result in results:\n",
    "    print(result)"
   ]
  },
  {
   "cell_type": "code",
   "execution_count": null,
   "id": "79e5af5b",
   "metadata": {},
   "outputs": [],
   "source": [
    "## Limiting the Number of Documents\n",
    "\n",
    "query = {\"age\": {\"$gt\": 21}}\n",
    "results = collection.find(query).limit(5)\n",
    "for result in results:\n",
    "    print(result)"
   ]
  },
  {
   "cell_type": "code",
   "execution_count": null,
   "id": "7932ff1b",
   "metadata": {},
   "outputs": [],
   "source": [
    "## Introduction to the Aggregation Pipeline\n",
    "## defines an aggregation pipeline to process data within the collection:\n",
    "\n",
    "## \"$match\": Filters documents to include only those where age is greater than 18.\n",
    "## \"$group\": Groups the documents by gender and calculates the average age (averageAge) for each gender group \n",
    "##       using the $avg operator.\n",
    "## \"$sort\": Sorts the results by averageAge in descending order (-1).\n",
    "\n",
    "pipeline = [\n",
    "    {\"$match\": {\"age\": {\"$gt\": 18}}},\n",
    "    {\"$group\": {\"_id\": \"$gender\", \"averageAge\": {\"$avg\": \"$age\"}}},\n",
    "    {\"$sort\": {\"averageAge\": -1}}\n",
    "]\n",
    "results = collection.aggregate(pipeline)\n",
    "for result in results:\n",
    "    print(result)"
   ]
  },
  {
   "cell_type": "code",
   "execution_count": null,
   "id": "bed02f5e",
   "metadata": {},
   "outputs": [],
   "source": [
    "## Single field index\n",
    "\n",
    "collection.create_index([(\"email\", pymongo.ASCENDING)])"
   ]
  },
  {
   "cell_type": "code",
   "execution_count": null,
   "id": "194d6594",
   "metadata": {},
   "outputs": [],
   "source": [
    "# Compound index\n",
    "\n",
    "collection.create_index([(\"lastname\", pymongo.ASCENDING), (\"firstname\", pymongo.ASCENDING)])"
   ]
  },
  {
   "cell_type": "code",
   "execution_count": null,
   "id": "454e132f",
   "metadata": {},
   "outputs": [],
   "source": [
    "## how MongoDB uses indexes in queries and how to verify index usage with the explain method\n",
    "\n",
    "query = {\"lastname\": \"Doe\", \"firstname\": \"John\"}\n",
    "result = collection.find(query).explain()\n",
    "print(result)"
   ]
  }
 ],
 "metadata": {
  "kernelspec": {
   "display_name": "Python 3 (ipykernel)",
   "language": "python",
   "name": "python3"
  },
  "language_info": {
   "codemirror_mode": {
    "name": "ipython",
    "version": 3
   },
   "file_extension": ".py",
   "mimetype": "text/x-python",
   "name": "python",
   "nbconvert_exporter": "python",
   "pygments_lexer": "ipython3",
   "version": "3.9.7"
  }
 },
 "nbformat": 4,
 "nbformat_minor": 5
}
