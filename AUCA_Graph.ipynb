{
 "cells": [
  {
   "cell_type": "markdown",
   "id": "6141a813",
   "metadata": {},
   "source": [
    "## Data Insertion\n",
    "\n",
    "// Create nodes\n",
    "CREATE (a:Person {name: 'Alice', age: 24})\n",
    "CREATE (b:Person {name: 'Bob', age: 27})\n",
    "CREATE (c:Person {name: 'Carol', age: 22})\n",
    "\n",
    "// Create relationships\n",
    "CREATE (a)-[:FRIENDS_WITH]->(b)\n",
    "CREATE (b)-[:FRIENDS_WITH]->(c)\n"
   ]
  },
  {
   "cell_type": "markdown",
   "id": "ac828017",
   "metadata": {},
   "source": [
    "## Confirm Data Insertion\n",
    "\n",
    "// Retrieve all persons who are friends with 'Bob'\n",
    "MATCH (bob {name: 'Bob'})-[:FRIENDS_WITH]->(friends)\n",
    "RETURN friends.name"
   ]
  },
  {
   "cell_type": "markdown",
   "id": "e76b76d2",
   "metadata": {},
   "source": [
    "## Create additional Relationship\n",
    "// You first locate the nodes you created by their properties (like name in this case). After matching the nodes, // you create the relationships among them. This way, you're specifically instructing Neo4J to connect the nodes \n",
    "// that have already been created\n",
    "\n",
    "MATCH (a:Person {name: 'Alice'}), (c:Person {name: 'Carol'})\n",
    "CREATE (c)-[:FRIENDS_WITH]->(a)"
   ]
  },
  {
   "cell_type": "markdown",
   "id": "861f2080",
   "metadata": {},
   "source": [
    "## Clear out Database\n",
    "\n",
    "// matches all nodes n in the database and deletes each matched node n and all relationships connected to those \n",
    "// nodes. The DETACH keyword is crucial because it automatically removes the relationships before deleting the \n",
    "// nodes, preventing issues related to trying to delete connected nodes\n",
    "\n",
    "MATCH (n)\n",
    "DETACH DELETE n"
   ]
  },
  {
   "cell_type": "markdown",
   "id": "908735e9",
   "metadata": {},
   "source": [
    "## Delete specific nodes\n",
    "\n",
    "// delete the nodes for 'Alice', 'Bob', and 'Carol', ensuring that all their relationships are also removed\n",
    "\n",
    "MATCH (a:Person {name: 'Alice'}), \n",
    "      (b:Person {name: 'Bob'}), \n",
    "      (c:Person {name: 'Carol'})\n",
    "DETACH DELETE a, b, c\n"
   ]
  },
  {
   "cell_type": "markdown",
   "id": "52b44c77",
   "metadata": {},
   "source": [
    "## Extending the Social Network Graph: broken graph\n",
    "\n",
    "// Adding more people\n",
    "CREATE (d:Person {name: 'Dave', age: 30})\n",
    "CREATE (e:Person {name: 'Eve', age: 35})\n",
    "CREATE (f:Person {name: 'Frank', age: 40})\n",
    "CREATE (g:Person {name: 'Grace', age: 28})\n",
    "\n",
    "// Adding different types of relationships\n",
    "CREATE (a)-[:COLLEAGUE_WITH]->(d)\n",
    "CREATE (a)-[:FRIENDS_WITH]->(e)\n",
    "CREATE (b)-[:COLLEAGUE_WITH]->(e)\n",
    "CREATE (c)-[:FRIENDS_WITH]->(f)\n",
    "CREATE (d)-[:FRIENDS_WITH]->(g)\n",
    "CREATE (e)-[:MANAGES]->(g)\n",
    "\n",
    "// Create some interest nodes and link people to these\n",
    "CREATE (sports:Interest {type: 'Sports'})\n",
    "CREATE (music:Interest {type: 'Music'})\n",
    "CREATE (tech:Interest {type: 'Technology'})\n",
    "\n",
    "// Connecting people to interests\n",
    "CREATE (a)-[:INTERESTED_IN]->(sports)\n",
    "CREATE (b)-[:INTERESTED_IN]->(music)\n",
    "CREATE (c)-[:INTERESTED_IN]->(tech)\n",
    "CREATE (d)-[:INTERESTED_IN]->(tech)\n",
    "CREATE (e)-[:INTERESTED_IN]->(sports)\n",
    "CREATE (f)-[:INTERESTED_IN]->(music)\n",
    "CREATE (g)-[:INTERESTED_IN]->(tech)\n",
    "\n",
    "// Adding a location aspect to our network\n",
    "CREATE (lagos:Location {city: 'Lagos', country: 'Nigeria'})\n",
    "CREATE (nairobi:Location {city: 'Nairobi', country: 'Kenya'})\n",
    "CREATE (london:Location {city: 'London', country: 'UK'})\n",
    "\n",
    "// Connecting people to locations\n",
    "CREATE (a)-[:LIVES_IN]->(lagos)\n",
    "CREATE (b)-[:LIVES_IN]->(nairobi)\n",
    "CREATE (c)-[:LIVES_IN]->(lagos)\n",
    "CREATE (d)-[:LIVES_IN]->(london)\n",
    "CREATE (e)-[:LIVES_IN]->(london)\n",
    "CREATE (f)-[:LIVES_IN]->(nairobi)\n",
    "CREATE (g)-[:LIVES_IN]->(lagos)\n"
   ]
  },
  {
   "cell_type": "markdown",
   "id": "1bc455d6",
   "metadata": {},
   "source": [
    "## Extending the Social Network Graph: complete graph\n",
    "\n",
    "// Assuming Alice, Bob, and Carol already exist in the database\n",
    "\n",
    "// Match existing nodes\n",
    "MATCH (a:Person {name: 'Alice'}), (b:Person {name: 'Bob'}), (c:Person {name: 'Carol'})\n",
    "\n",
    "// Create new people and relationships simultaneously\n",
    "CREATE (d:Person {name: 'Dave', age: 30})\n",
    "CREATE (e:Person {name: 'Eve', age: 35})\n",
    "CREATE (f:Person {name: 'Frank', age: 40})\n",
    "CREATE (g:Person {name: 'Grace', age: 28})\n",
    "CREATE (a)-[:COLLEAGUE_WITH]->(d)\n",
    "CREATE (a)-[:FRIENDS_WITH]->(e)\n",
    "CREATE (b)-[:COLLEAGUE_WITH]->(e)\n",
    "CREATE (c)-[:FRIENDS_WITH]->(f)\n",
    "CREATE (d)-[:FRIENDS_WITH]->(g)\n",
    "CREATE (e)-[:MANAGES]->(g)\n",
    "\n",
    "// Create interest nodes\n",
    "CREATE (sports:Interest {type: 'Sports'})\n",
    "CREATE (music:Interest {type: 'Music'})\n",
    "CREATE (tech:Interest {type: 'Technology'})\n",
    "\n",
    "// Connecting people to interests\n",
    "CREATE (a)-[:INTERESTED_IN]->(sports)\n",
    "CREATE (b)-[:INTERESTED_IN]->(music)\n",
    "CREATE (c)-[:INTERESTED_IN]->(tech)\n",
    "CREATE (d)-[:INTERESTED_IN]->(tech)\n",
    "CREATE (e)-[:INTERESTED_IN]->(sports)\n",
    "CREATE (f)-[:INTERESTED_IN]->(music)\n",
    "CREATE (g)-[:INTERESTED_IN]->(tech)\n",
    "\n",
    "// Create location nodes\n",
    "CREATE (lagos:Location {city: 'Lagos', country: 'Nigeria'})\n",
    "CREATE (nairobi:Location {city: 'Nairobi', country: 'Kenya'})\n",
    "CREATE (london:Location {city: 'London', country: 'UK'})\n",
    "\n",
    "// Connecting people to locations\n",
    "CREATE (a)-[:LIVES_IN]->(lagos)\n",
    "CREATE (b)-[:LIVES_IN]->(nairobi)\n",
    "CREATE (c)-[:LIVES_IN]->(lagos)\n",
    "CREATE (d)-[:LIVES_IN]->(london)\n",
    "CREATE (e)-[:LIVES_IN]->(london)\n",
    "CREATE (f)-[:LIVES_IN]->(nairobi)\n",
    "CREATE (g)-[:LIVES_IN]->(lagos)\n",
    "\n"
   ]
  },
  {
   "cell_type": "code",
   "execution_count": 7,
   "id": "193bc6c6",
   "metadata": {},
   "outputs": [
    {
     "name": "stdout",
     "output_type": "stream",
     "text": [
      "\n"
     ]
    }
   ],
   "source": [
    "## Use Python to extend the graph\n",
    "\n",
    "## Use the py2neo library, which allows for interaction with Neo4J from a Python environment.\n",
    "\n",
    "pip install py2neo"
   ]
  },
  {
   "cell_type": "code",
   "execution_count": 6,
   "id": "2179dbf7",
   "metadata": {},
   "outputs": [],
   "source": [
    "from py2neo import Graph, Node, Relationship\n",
    "\n",
    "# Connect to Neo4J instance\n",
    "graph = Graph(\"bolt://localhost:7687\", auth=(\"neo4j\", \"your_password\"), name=\"aucatest\")\n",
    "\n",
    "# Match existing nodes\n",
    "alice = graph.nodes.match(\"Person\", name=\"Alice\").first()\n",
    "bob = graph.nodes.match(\"Person\", name=\"Bob\").first()\n",
    "carol = graph.nodes.match(\"Person\", name=\"Carol\").first()\n",
    "\n",
    "# Create new nodes\n",
    "dave = Node(\"Person\", name=\"Dave\", age=30)\n",
    "eve = Node(\"Person\", name=\"Eve\", age=35)\n",
    "frank = Node(\"Person\", name=\"Frank\", age=40)\n",
    "grace = Node(\"Person\", name=\"Grace\", age=28)\n",
    "\n",
    "# Add new nodes to the graph\n",
    "graph.create(dave)\n",
    "graph.create(eve)\n",
    "graph.create(frank)\n",
    "graph.create(grace)\n",
    "\n",
    "# Create new relationships\n",
    "rel1 = Relationship(alice, \"COLLEAGUE_WITH\", dave)\n",
    "rel2 = Relationship(alice, \"FRIENDS_WITH\", eve)\n",
    "rel3 = Relationship(bob, \"COLLEAGUE_WITH\", eve)\n",
    "rel4 = Relationship(carol, \"FRIENDS_WITH\", frank)\n",
    "rel5 = Relationship(dave, \"FRIENDS_WITH\", grace)\n",
    "rel6 = Relationship(eve, \"MANAGES\", grace)\n",
    "\n",
    "# Add relationships to the graph\n",
    "graph.create(rel1)\n",
    "graph.create(rel2)\n",
    "graph.create(rel3)\n",
    "graph.create(rel4)\n",
    "graph.create(rel5)\n",
    "graph.create(rel6)\n",
    "\n",
    "Print('End of Code')"
   ]
  },
  {
   "cell_type": "markdown",
   "id": "1d022d68",
   "metadata": {},
   "source": [
    "## Password Reset\n",
    "\n",
    "ALTER USER neo4j SET PASSWORD 'your_password'"
   ]
  },
  {
   "cell_type": "code",
   "execution_count": null,
   "id": "8c57fe82",
   "metadata": {},
   "outputs": [],
   "source": []
  },
  {
   "cell_type": "markdown",
   "id": "49b24d0e",
   "metadata": {},
   "source": [
    "## --  Basic Queries: Retrieving Data with MATCH Statements"
   ]
  },
  {
   "cell_type": "markdown",
   "id": "33637960",
   "metadata": {},
   "source": [
    "## Retrieve All People in the Database\n",
    "\n",
    "MATCH (p:Person)\n",
    "RETURN p"
   ]
  },
  {
   "cell_type": "markdown",
   "id": "3ed97fff",
   "metadata": {},
   "source": [
    "## Retrieve All Relationships\n",
    "\n",
    "MATCH ()-[r]->()\n",
    "RETURN r"
   ]
  },
  {
   "cell_type": "markdown",
   "id": "9629b9bb",
   "metadata": {},
   "source": [
    "## Retrieve All People and Their Friends\n",
    "\n",
    "MATCH (p:Person)-[:FRIENDS_WITH]->(friend)\n",
    "RETURN p.name AS Person, friend.name AS Friend"
   ]
  },
  {
   "cell_type": "markdown",
   "id": "da1f25a5",
   "metadata": {},
   "source": [
    "## Retrieve All Managers and Their Direct Reports\n",
    "\n",
    "MATCH (manager:Person)-[:MANAGES]->(report:Person)\n",
    "RETURN manager.name AS Manager, report.name AS Direct_Report"
   ]
  },
  {
   "cell_type": "code",
   "execution_count": null,
   "id": "39768538",
   "metadata": {},
   "outputs": [],
   "source": []
  },
  {
   "cell_type": "markdown",
   "id": "3ecad8ca",
   "metadata": {},
   "source": [
    "## --  Queries with Filtering, Sorting, and Limiting"
   ]
  },
  {
   "cell_type": "markdown",
   "id": "6e335373",
   "metadata": {},
   "source": [
    "## Retrieve People Based on Specific Interest\n",
    "\n",
    "MATCH (p:Person)-[:INTERESTED_IN]->(i:Interest {type: 'Sports'})\n",
    "RETURN p.name AS Sports_Enthusiasts"
   ]
  },
  {
   "cell_type": "markdown",
   "id": "42a40307",
   "metadata": {},
   "source": [
    "## List People Living in a Specific Location, Sorted by Age\n",
    "\n",
    "MATCH (p:Person)-[:LIVES_IN]->(l:Location {city: 'Lagos'})\n",
    "RETURN p.name AS Name, p.age AS Age\n",
    "ORDER BY p.age"
   ]
  },
  {
   "cell_type": "markdown",
   "id": "4fb2d5a6",
   "metadata": {},
   "source": [
    "## Find Friends of a Specific Person and Sort by Name\n",
    "\n",
    "MATCH (p:Person {name: 'Alice'})-[:FRIENDS_WITH]->(friend)\n",
    "RETURN friend.name AS Friend_Name\n",
    "ORDER BY friend.name"
   ]
  },
  {
   "cell_type": "markdown",
   "id": "9f349660",
   "metadata": {},
   "source": [
    "## Find Top 3 Oldest People in the Database\n",
    "\n",
    "MATCH (p:Person)\n",
    "RETURN p.name AS Name, p.age AS Age\n",
    "ORDER BY p.age DESC\n",
    "LIMIT 3"
   ]
  },
  {
   "cell_type": "markdown",
   "id": "1e2dd928",
   "metadata": {},
   "source": [
    "## People with More Than One Interest. Also try 0\n",
    "\n",
    "MATCH (p:Person)-[:INTERESTED_IN]->(i:Interest)\n",
    "WITH p, COUNT(i) AS Interests\n",
    "WHERE Interests > 1\n",
    "RETURN p.name AS Name, Interests\n",
    "ORDER BY Interests DESC"
   ]
  },
  {
   "cell_type": "markdown",
   "id": "f4097c63",
   "metadata": {},
   "source": [
    "## Find People Who Manage Others and Live in a Specific Location\n",
    "\n",
    "MATCH (manager:Person)-[:MANAGES]->(:Person),\n",
    "      (manager)-[:LIVES_IN]->(l:Location {city: 'London'})\n",
    "RETURN DISTINCT manager.name AS Manager, l.city AS City"
   ]
  },
  {
   "cell_type": "code",
   "execution_count": null,
   "id": "4ce81957",
   "metadata": {},
   "outputs": [],
   "source": []
  },
  {
   "cell_type": "markdown",
   "id": "4219ec40",
   "metadata": {},
   "source": [
    "## --  Advanced Queries and Functions"
   ]
  },
  {
   "cell_type": "markdown",
   "id": "e5ed7449",
   "metadata": {},
   "source": [
    "## Count the Number of Friends Each Person Has\n",
    "\n",
    "MATCH (p:Person)-[:FRIENDS_WITH]->(friend)\n",
    "RETURN p.name AS Person, COUNT(friend) AS NumberOfFriends\n",
    "ORDER BY NumberOfFriends DESC"
   ]
  },
  {
   "cell_type": "markdown",
   "id": "dbca9372",
   "metadata": {},
   "source": [
    "## Find the Shortest Path of Friendships Between Two People\n",
    "\n",
    "MATCH path=shortestPath((p1:Person {name: 'Alice'})-[:FRIENDS_WITH*]-(p2:Person {name: 'Frank'}))\n",
    "RETURN path"
   ]
  },
  {
   "cell_type": "code",
   "execution_count": null,
   "id": "fb234925",
   "metadata": {},
   "outputs": [],
   "source": []
  },
  {
   "cell_type": "markdown",
   "id": "84237140",
   "metadata": {},
   "source": [
    "## --  Data Analytics"
   ]
  },
  {
   "cell_type": "markdown",
   "id": "e82b8199",
   "metadata": {},
   "source": [
    "## Analyze Average Age of People by Interest\n",
    "\n",
    "// This query calculates the average age of people grouped by their interests, which can provide insights into the // demographic distribution of interests.\n",
    "\n",
    "MATCH (p:Person)-[:INTERESTED_IN]->(i:Interest)\n",
    "RETURN i.type AS Interest, AVG(p.age) AS AverageAge\n",
    "ORDER BY AverageAge DESC"
   ]
  },
  {
   "cell_type": "markdown",
   "id": "e553b9a7",
   "metadata": {},
   "source": [
    "## Distribution of People Across Locations\n",
    "\n",
    "// analyze how many people live in each location, which is useful for understanding geographical distributions.\n",
    "\n",
    "MATCH (p:Person)-[:LIVES_IN]->(l:Location)\n",
    "RETURN l.city AS City, COUNT(p) AS NumberOfPeople\n",
    "ORDER BY NumberOfPeople DESC"
   ]
  },
  {
   "cell_type": "code",
   "execution_count": null,
   "id": "8873ab8e",
   "metadata": {},
   "outputs": [],
   "source": []
  },
  {
   "cell_type": "markdown",
   "id": "0433e290",
   "metadata": {},
   "source": [
    "## --  Data Analytics in Python"
   ]
  },
  {
   "cell_type": "code",
   "execution_count": null,
   "id": "b73662c6",
   "metadata": {},
   "outputs": [],
   "source": [
    "## If not already installed, you need to install py2neo and pandas.\n",
    "\n",
    "pip install py2neo pandas"
   ]
  },
  {
   "cell_type": "code",
   "execution_count": 13,
   "id": "4189c4a5",
   "metadata": {},
   "outputs": [
    {
     "name": "stdout",
     "output_type": "stream",
     "text": [
      "     Interest  AverageAge\n",
      "0       Music   33.500000\n",
      "1      Sports   29.500000\n",
      "2  Technology   26.666667\n"
     ]
    },
    {
     "data": {
      "image/png": "[encoded data removed]",
      "text/plain": [
       "<Figure size 720x360 with 1 Axes>"
      ]
     },
     "metadata": {
      "needs_background": "light"
     },
     "output_type": "display_data"
    }
   ],
   "source": [
    "from py2neo import Graph\n",
    "import pandas as pd\n",
    "import matplotlib.pyplot as plt\n",
    "\n",
    "# Connect to the specific Neo4J database\n",
    "graph = Graph(\"bolt://localhost:7687\", name=\"aucatest\", auth=(\"neo4j\", \"neo4j_neo4j\"))\n",
    "\n",
    "# Cypher query to fetch data\n",
    "query = \"\"\"\n",
    "MATCH (p:Person)-[:INTERESTED_IN]->(i:Interest)\n",
    "RETURN i.type AS Interest, AVG(p.age) AS AverageAge\n",
    "ORDER BY AverageAge DESC\n",
    "\"\"\"\n",
    "\n",
    "# Execute the query and fetch data\n",
    "data = graph.run(query).data()\n",
    "\n",
    "# Convert to DataFrame\n",
    "df = pd.DataFrame(data)\n",
    "\n",
    "# Print DataFrame to check contents and ensure correct data types\n",
    "print(df)\n",
    "\n",
    "# Plot the results if data is present\n",
    "if not df.empty and 'Interest' in df.columns and 'AverageAge' in df.columns:\n",
    "    plt.figure(figsize=(10, 5))\n",
    "    plt.bar(df['Interest'], df['AverageAge'], color='blue')\n",
    "    plt.xlabel('Interest')\n",
    "    plt.ylabel('Average Age')\n",
    "    plt.title('Average Age by Interest')\n",
    "    plt.xticks(rotation=45)  # Rotate labels to handle potentially long interest names\n",
    "    plt.show()\n",
    "else:\n",
    "    print(\"DataFrame is empty or does not contain the expected columns.\")\n"
   ]
  },
  {
   "cell_type": "code",
   "execution_count": null,
   "id": "371e4c2a",
   "metadata": {},
   "outputs": [],
   "source": []
  }
 ],
 "metadata": {
  "kernelspec": {
   "display_name": "Python 3 (ipykernel)",
   "language": "python",
   "name": "python3"
  },
  "language_info": {
   "codemirror_mode": {
    "name": "ipython",
    "version": 3
   },
   "file_extension": ".py",
   "mimetype": "text/x-python",
   "name": "python",
   "nbconvert_exporter": "python",
   "pygments_lexer": "ipython3",
   "version": "3.9.7"
  }
 },
 "nbformat": 4,
 "nbformat_minor": 5
}
