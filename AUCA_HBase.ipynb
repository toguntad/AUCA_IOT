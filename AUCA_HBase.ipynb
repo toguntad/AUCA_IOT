{
 "cells": [
  {
   "cell_type": "code",
   "execution_count": 15,
   "id": "77e17db6",
   "metadata": {},
   "outputs": [
    {
     "name": "stdout",
     "output_type": "stream",
     "text": [
      "\n"
     ]
    }
   ],
   "source": [
    "## Setting up HappyBase in Python\n",
    "\n",
    "!pip install happybase"
   ]
  },
  {
   "cell_type": "code",
   "execution_count": null,
   "id": "211d08a2",
   "metadata": {},
   "outputs": [],
   "source": [
    "## Remember to start the Thrift Server on the Terminal with:\n",
    "\n",
    "hbase thrift start -p 9090"
   ]
  },
  {
   "cell_type": "markdown",
   "id": "b04bc447",
   "metadata": {},
   "source": [
    "## Connecting to HBase: Here's how you would start by establishing a connection to HBase from Python:"
   ]
  },
  {
   "cell_type": "code",
   "execution_count": 4,
   "id": "b99694e3",
   "metadata": {},
   "outputs": [],
   "source": [
    "import happybase\n",
    "\n",
    "# Connect to HBase on the default host (localhost) and port (9090)\n",
    "connection = happybase.Connection()\n",
    "\n",
    "# Opening a connection (ensure HBase's Thrift server is running)\n",
    "connection.open()"
   ]
  },
  {
   "cell_type": "code",
   "execution_count": 5,
   "id": "0a88f568",
   "metadata": {},
   "outputs": [],
   "source": [
    "## Creating a Table\n",
    "\n",
    "# Define the table and column family\n",
    "table_name = 'test'\n",
    "families = {\n",
    "    'cf': dict()  # Basic column family with default options\n",
    "}\n",
    "\n",
    "# Create the table\n",
    "connection.create_table(table_name, families)"
   ]
  },
  {
   "cell_type": "code",
   "execution_count": 6,
   "id": "8130d2cf",
   "metadata": {},
   "outputs": [],
   "source": [
    "## Inserting Data\n",
    "\n",
    "table = connection.table('test')\n",
    "\n",
    "# Insert data into the table\n",
    "table.put('row1', {'cf:a': 'value1'})"
   ]
  },
  {
   "cell_type": "code",
   "execution_count": 16,
   "id": "bff72355",
   "metadata": {},
   "outputs": [
    {
     "name": "stdout",
     "output_type": "stream",
     "text": [
      "\n"
     ]
    }
   ],
   "source": [
    "## Retrieving Data\n",
    "\n",
    "# Get data from the table\n",
    "row = table.row('row1')\n",
    "print(row)  # Output the row"
   ]
  },
  {
   "cell_type": "code",
   "execution_count": 12,
   "id": "399f8c0e",
   "metadata": {},
   "outputs": [],
   "source": [
    "## Scanning Data\n",
    "\n",
    "# Scan and print all rows in the table\n",
    "for key, data in table.scan():\n",
    "    print(key, data)"
   ]
  },
  {
   "cell_type": "code",
   "execution_count": 9,
   "id": "591643f7",
   "metadata": {},
   "outputs": [],
   "source": [
    "## Modifying Data\n",
    "\n",
    "# Modify existing data\n",
    "table.put('row1', {'cf:a': 'new_value'})"
   ]
  },
  {
   "cell_type": "code",
   "execution_count": 11,
   "id": "c31c36a4",
   "metadata": {},
   "outputs": [],
   "source": [
    "## Deleting Data\n",
    "\n",
    "# Delete a specific column in a row\n",
    "table.delete('row1', columns=['cf:a'])"
   ]
  },
  {
   "cell_type": "code",
   "execution_count": 13,
   "id": "634db3e2",
   "metadata": {},
   "outputs": [],
   "source": [
    "## Deleting the Table\n",
    "\n",
    "# Disable and drop the table\n",
    "connection.disable_table('test')\n",
    "connection.delete_table('test')"
   ]
  },
  {
   "cell_type": "code",
   "execution_count": 14,
   "id": "1c0bc83e",
   "metadata": {},
   "outputs": [],
   "source": [
    "## Closing the Connection\n",
    "\n",
    "# Close the connection to HBase when done\n",
    "connection.close()"
   ]
  },
  {
   "cell_type": "code",
   "execution_count": null,
   "id": "e0111028",
   "metadata": {},
   "outputs": [],
   "source": []
  }
 ],
 "metadata": {
  "kernelspec": {
   "display_name": "Python 3 (ipykernel)",
   "language": "python",
   "name": "python3"
  },
  "language_info": {
   "codemirror_mode": {
    "name": "ipython",
    "version": 3
   },
   "file_extension": ".py",
   "mimetype": "text/x-python",
   "name": "python",
   "nbconvert_exporter": "python",
   "pygments_lexer": "ipython3",
   "version": "3.9.7"
  }
 },
 "nbformat": 4,
 "nbformat_minor": 5
}
